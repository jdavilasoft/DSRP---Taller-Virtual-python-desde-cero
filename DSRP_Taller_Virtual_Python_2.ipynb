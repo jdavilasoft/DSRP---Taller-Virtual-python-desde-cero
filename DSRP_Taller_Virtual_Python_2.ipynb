{
  "nbformat": 4,
  "nbformat_minor": 0,
  "metadata": {
    "colab": {
      "provenance": [],
      "collapsed_sections": [],
      "authorship_tag": "ABX9TyM5x91dae1NTzfh3gJ9wuL4",
      "include_colab_link": true
    },
    "kernelspec": {
      "name": "python3",
      "display_name": "Python 3"
    },
    "language_info": {
      "name": "python"
    }
  },
  "cells": [
    {
      "cell_type": "markdown",
      "metadata": {
        "id": "view-in-github",
        "colab_type": "text"
      },
      "source": [
        "<a href=\"https://colab.research.google.com/github/jdavilasoft/DSRP-Taller-Virtual-python/blob/main/DSRP_Taller_Virtual_Python_2.ipynb\" target=\"_parent\"><img src=\"https://colab.research.google.com/assets/colab-badge.svg\" alt=\"Open In Colab\"/></a>"
      ]
    },
    {
      "cell_type": "code",
      "execution_count": null,
      "metadata": {
        "id": "ZG34_jjFWT9D",
        "colab": {
          "base_uri": "https://localhost:8080/"
        },
        "outputId": "fcc4a29c-7373-418a-ac53-77089a5d57c1"
      },
      "outputs": [
        {
          "output_type": "stream",
          "name": "stdout",
          "text": [
            "[10, 20, 30]\n",
            "['homero', 'marge', 'bart']\n",
            "['pepito', 50, 69]\n"
          ]
        }
      ],
      "source": [
        "# Creando listas\n",
        "# No importa el tipo de datos\n",
        "lista1 = [10, 20, 30]\n",
        "print(lista1)\n",
        "\n",
        "lista2 = ['homero', 'marge', 'bart']\n",
        "print(lista2)\n",
        "\n",
        "lista3 = ['pepito', 50, 69]\n",
        "print(lista3)"
      ]
    },
    {
      "cell_type": "code",
      "source": [
        "# Ejemplo\n",
        "nombres = ['jose', 'martin', 'salvador']\n",
        "edad = [43, 56, 49]\n",
        "universidad = ['ucsm', 'uni', 'pucp']\n",
        "\n",
        "# Acceder a elementos\n",
        "print(nombres[1])\n",
        "print(universidad[2])\n",
        "\n",
        "# Longitud de a lista\n",
        "print(\"Numero de estudiantes:\", len(nombres))"
      ],
      "metadata": {
        "colab": {
          "base_uri": "https://localhost:8080/"
        },
        "id": "nx5Bx7ryaxic",
        "outputId": "f49cd31e-cb6e-4a78-e7e8-49484783ddf4"
      },
      "execution_count": null,
      "outputs": [
        {
          "output_type": "stream",
          "name": "stdout",
          "text": [
            "martin\n",
            "pucp\n",
            "Numero de estudiantes: 3\n"
          ]
        }
      ]
    },
    {
      "cell_type": "code",
      "source": [
        "# Recorrer una lista\n",
        "for item in nombres:\n",
        "  print(item)"
      ],
      "metadata": {
        "colab": {
          "base_uri": "https://localhost:8080/"
        },
        "id": "Ad_mhq7EcsAo",
        "outputId": "9bc9037c-afb3-4730-942c-fe6ce6e012e2"
      },
      "execution_count": null,
      "outputs": [
        {
          "output_type": "stream",
          "name": "stdout",
          "text": [
            "jose\n",
            "martin\n",
            "salvador\n"
          ]
        }
      ]
    },
    {
      "cell_type": "code",
      "source": [
        "# Otro ejemplo para recorrer una lista\n",
        "for i in range(len(nombres)):\n",
        "  print(nombres[i].capitalize(), 'tiene', edad[i], 'anios, y estudia en', universidad[i].upper())"
      ],
      "metadata": {
        "colab": {
          "base_uri": "https://localhost:8080/"
        },
        "id": "MjGRBbkYdh8O",
        "outputId": "43f6bc12-414c-42ad-be3e-5cf72ab4897c"
      },
      "execution_count": null,
      "outputs": [
        {
          "output_type": "stream",
          "name": "stdout",
          "text": [
            "Jose tiene 43 anios, y estudia en UCSM\n",
            "Martin tiene 56 anios, y estudia en UNI\n",
            "Salvador tiene 49 anios, y estudia en PUCP\n",
            "Javier tiene 35 anios, y estudia en DE LA VIDA\n"
          ]
        }
      ]
    },
    {
      "cell_type": "code",
      "source": [
        "# Agregar elementos a una lista\n",
        "nombres.append('javier')\n",
        "edad.append(35)\n",
        "universidad.append('de la vida')"
      ],
      "metadata": {
        "id": "V6KVeSw1eVy-"
      },
      "execution_count": null,
      "outputs": []
    },
    {
      "cell_type": "code",
      "source": [
        "# Saber el indica de un elemento\n",
        "print(nombres.index('javier'))\n",
        "print(edad.index(56))\n",
        "print(universidad.index('ucsm'))"
      ],
      "metadata": {
        "colab": {
          "base_uri": "https://localhost:8080/"
        },
        "id": "gpsPjyOQenwu",
        "outputId": "4ecb6278-6ad0-4934-e5f0-87c6de151535"
      },
      "execution_count": null,
      "outputs": [
        {
          "output_type": "stream",
          "name": "stdout",
          "text": [
            "3\n",
            "1\n",
            "0\n"
          ]
        }
      ]
    },
    {
      "cell_type": "code",
      "source": [
        "# Ejemplo\n",
        "alumno = ['alice', 'bob', 'claudio', 'dionisio', 'erica', 'fiorella', 'gregorio']\n",
        "nota = [19, 18, 10, 14, 14, 20, 10]\n",
        "\n",
        "for i in range(len(alumno)):\n",
        "  if (nota[i] > 10):\n",
        "    print(alumno[i].capitalize(), 'aprobado')\n",
        "  else:\n",
        "    print(alumno[i].capitalize(), 'desaprobado')"
      ],
      "metadata": {
        "colab": {
          "base_uri": "https://localhost:8080/"
        },
        "id": "wWyyr3Blfuid",
        "outputId": "f422cf35-93ea-4325-871a-27e82f6f0dab"
      },
      "execution_count": null,
      "outputs": [
        {
          "output_type": "stream",
          "name": "stdout",
          "text": [
            "Alice aprobado\n",
            "Bob aprobado\n",
            "Claudio desaprobado\n",
            "Dionisio aprobado\n",
            "Erica aprobado\n",
            "Fiorella aprobado\n",
            "Gregorio desaprobado\n"
          ]
        }
      ]
    },
    {
      "cell_type": "code",
      "source": [
        "# Otro ejemplo\n",
        "nombres = ['luis', 'roberto', 'silvia', 'francisco', 'josefina']\n",
        "apellidos = ['rivas', 'peralta', 'monteza', 'contreras', 'perez']\n",
        "edad = [30, 15, 21, 12, 30]\n",
        "\n",
        "for i in range(len(nombres)):\n",
        "  if edad[i] >= 18:\n",
        "    print(nombres[i].capitalize(), apellidos[i].capitalize(), 'es mayor de edad')\n",
        "  else:\n",
        "    print(nombres[i].capitalize(), apellidos[i].capitalize(), 'es menor de edad')"
      ],
      "metadata": {
        "colab": {
          "base_uri": "https://localhost:8080/"
        },
        "id": "4_ZdkrQ7hNfd",
        "outputId": "2445d264-f4e1-4983-decf-8119cf4004fe"
      },
      "execution_count": null,
      "outputs": [
        {
          "output_type": "stream",
          "name": "stdout",
          "text": [
            "Luis Rivas es mayor de edad\n",
            "Roberto Peralta es menor de edad\n",
            "Silvia Monteza es mayor de edad\n",
            "Francisco Contreras es menor de edad\n",
            "Josefina Perez es mayor de edad\n"
          ]
        }
      ]
    },
    {
      "cell_type": "code",
      "source": [
        "# LIBRERIA NUMPY\n",
        "import numpy as np\n",
        "v = np.array([1,2,3])\n",
        "print(v)\n",
        "\n",
        "s = np.array([3,4,5])\n",
        "print(s)"
      ],
      "metadata": {
        "colab": {
          "base_uri": "https://localhost:8080/"
        },
        "id": "rVjF3w7SiR9A",
        "outputId": "9a22c6b6-b861-41f3-9e81-b630ea410635"
      },
      "execution_count": null,
      "outputs": [
        {
          "output_type": "stream",
          "name": "stdout",
          "text": [
            "[1 2 3]\n",
            "[3 4 5]\n"
          ]
        }
      ]
    },
    {
      "cell_type": "code",
      "source": [
        "# Operaciones\n",
        "print(v + s)\n",
        "print(v - s)\n",
        "print(v * s)"
      ],
      "metadata": {
        "colab": {
          "base_uri": "https://localhost:8080/"
        },
        "id": "TlDrbl-OvvWW",
        "outputId": "fb1cf7de-be48-4f67-d53d-01bf44635361"
      },
      "execution_count": null,
      "outputs": [
        {
          "output_type": "stream",
          "name": "stdout",
          "text": [
            "[4 6 8]\n",
            "[-2 -2 -2]\n",
            "[ 3  8 15]\n"
          ]
        }
      ]
    },
    {
      "cell_type": "code",
      "source": [
        "# Producto escalar 1*3 + 2*4 + 3*5\n",
        "pe = v.dot(s)\n",
        "print('El producto escalar de v*s es:', pe)"
      ],
      "metadata": {
        "colab": {
          "base_uri": "https://localhost:8080/"
        },
        "id": "M_tTDXbkxYXD",
        "outputId": "9474e334-68ff-49f9-f158-07e7c63d0178"
      },
      "execution_count": null,
      "outputs": [
        {
          "output_type": "stream",
          "name": "stdout",
          "text": [
            "El producto escalar de v*s es: 26\n"
          ]
        }
      ]
    },
    {
      "cell_type": "code",
      "source": [
        "# Acceder a elementos (igual al acceso que las listas)\n",
        "print(v[0])\n",
        "print(s[1])"
      ],
      "metadata": {
        "colab": {
          "base_uri": "https://localhost:8080/"
        },
        "id": "puubIIr4x42Y",
        "outputId": "9a91e6e1-4374-4817-aa33-280e7fa35dc0"
      },
      "execution_count": null,
      "outputs": [
        {
          "output_type": "stream",
          "name": "stdout",
          "text": [
            "1\n",
            "4\n"
          ]
        }
      ]
    },
    {
      "cell_type": "code",
      "source": [
        "# Matrices\n",
        "a = np.array([[1, 9, 10], [7, 12, 21], [9, 7, 1]])\n",
        "print('Esta es la matriz a:\\n', a)\n",
        "\n",
        "print('')\n",
        "\n",
        "b = np.array([[3,4,34], [5,6,2], [1,2,3]])\n",
        "print('Esta es la matriz b:\\n', b)"
      ],
      "metadata": {
        "colab": {
          "base_uri": "https://localhost:8080/"
        },
        "id": "8l42oN9NyLrB",
        "outputId": "99cf227e-52e6-4bc0-b07c-4febca1e5de6"
      },
      "execution_count": null,
      "outputs": [
        {
          "output_type": "stream",
          "name": "stdout",
          "text": [
            "Esta es la matriz a:\n",
            " [[ 1  9 10]\n",
            " [ 7 12 21]\n",
            " [ 9  7  1]]\n",
            "\n",
            "Esta es la matriz b:\n",
            " [[ 3  4 34]\n",
            " [ 5  6  2]\n",
            " [ 1  2  3]]\n"
          ]
        }
      ]
    },
    {
      "cell_type": "code",
      "source": [
        "# Acceder a elementos de la matriz\n",
        "print('Elementos de la matriz A')\n",
        "print('Primer elemento:', a[0][0])\n",
        "print('Elemento central:', a[1][1])\n",
        "print('Ultimo elemento:', a[2][2])\n",
        "\n",
        "print('')\n",
        "\n",
        "print('Elementos de la matriz B')\n",
        "print('Primer elemento:', b[0][0])\n",
        "print('Elemento central:', b[1][1])\n",
        "print('Ultimo elemento:', b[2][2])"
      ],
      "metadata": {
        "colab": {
          "base_uri": "https://localhost:8080/"
        },
        "id": "b7AQ8VXWzKd1",
        "outputId": "d9676ef8-a023-4daa-877c-b7c25cc6614e"
      },
      "execution_count": null,
      "outputs": [
        {
          "output_type": "stream",
          "name": "stdout",
          "text": [
            "Elementos de la matriz A\n",
            "Primer elemento: 1\n",
            "Elemento central: 12\n",
            "Ultimo elemento: 1\n",
            "\n",
            "Elementos de la matriz B\n",
            "Primer elemento: 3\n",
            "Elemento central: 6\n",
            "Ultimo elemento: 3\n"
          ]
        }
      ]
    },
    {
      "cell_type": "code",
      "source": [
        "# Acceder a una fila\n",
        "print('Segunda fila de la matriz A:', a[1])\n",
        "print('Tercera fila de la matriz B:', b[2])\n",
        "\n",
        "print('')\n",
        "\n",
        "# Acceder a una columna\n",
        "print('Segunda fila de la matriz A:', a[:,1])\n",
        "print('Tercera fila de la matriz B:', b[:,2])"
      ],
      "metadata": {
        "colab": {
          "base_uri": "https://localhost:8080/"
        },
        "id": "ugJbmfkH08vS",
        "outputId": "42ebc7f5-e469-4dfe-a61f-13b2b0fdf047"
      },
      "execution_count": null,
      "outputs": [
        {
          "output_type": "stream",
          "name": "stdout",
          "text": [
            "Segunda fila de la matriz A: [ 7 12 21]\n",
            "Tercera fila de la matriz B: [1 2 3]\n",
            "\n",
            "Segunda fila de la matriz A: [ 9 12  7]\n",
            "Tercera fila de la matriz B: [34  2  3]\n"
          ]
        }
      ]
    },
    {
      "cell_type": "code",
      "source": [
        "# Operaciones con matrices\n",
        "# Deben tener el mismo numero de filas y columnas\n",
        "\n",
        "print('La suma de matrices:\\n', a + b)\n",
        "print('')\n",
        "print('El producto de matrices:\\n', a * b)\n"
      ],
      "metadata": {
        "colab": {
          "base_uri": "https://localhost:8080/"
        },
        "id": "6_GsNs4Y2m3g",
        "outputId": "00f16f86-88e8-4acb-f45e-642adce56bac"
      },
      "execution_count": null,
      "outputs": [
        {
          "output_type": "stream",
          "name": "stdout",
          "text": [
            "La suma de matrices:\n",
            " [[ 4 13 44]\n",
            " [12 18 23]\n",
            " [10  9  4]]\n",
            "\n",
            "El producto de matrices:\n",
            " [[  3  36 340]\n",
            " [ 35  72  42]\n",
            " [  9  14   3]]\n"
          ]
        }
      ]
    },
    {
      "cell_type": "code",
      "source": [
        "# Produto escalar de matrices\n",
        "x = np.array([[1,2],[3,4]])\n",
        "print('Matriz X:\\n', x, '\\n')\n",
        "y = np.array([[5,6],[7,8]])\n",
        "print('Matriz Y:\\n', y, '\\n')\n",
        "print(np.dot(x, y))\n",
        "# El calculo es el siguiente\n",
        "# [1*5 + 2*7, 1*6 + 2*8][3*5 + 4*7, 3*6 + 4*8]"
      ],
      "metadata": {
        "colab": {
          "base_uri": "https://localhost:8080/"
        },
        "id": "eER4lYrt3SkH",
        "outputId": "db194bf4-fe4a-41cf-a24b-3d9e26433f02"
      },
      "execution_count": null,
      "outputs": [
        {
          "output_type": "stream",
          "name": "stdout",
          "text": [
            "Matriz X:\n",
            " [[1 2]\n",
            " [3 4]] \n",
            "\n",
            "Matriz Y:\n",
            " [[5 6]\n",
            " [7 8]] \n",
            "\n",
            "[[19 22]\n",
            " [43 50]]\n"
          ]
        }
      ]
    },
    {
      "cell_type": "code",
      "source": [
        "# Otro ejemplo con las matrices a y b\n",
        "print(np.dot(a, b))"
      ],
      "metadata": {
        "colab": {
          "base_uri": "https://localhost:8080/"
        },
        "id": "v_BV5Q45-gqw",
        "outputId": "2c19b5b4-697b-4872-8291-0adc48da7661"
      },
      "execution_count": null,
      "outputs": [
        {
          "output_type": "stream",
          "name": "stdout",
          "text": [
            "[[ 58  78  82]\n",
            " [102 142 325]\n",
            " [ 63  80 323]]\n"
          ]
        }
      ]
    },
    {
      "cell_type": "code",
      "source": [
        "# Matriz identidad\n",
        "print('Esta es una matriz identidad')\n",
        "z = np.eye(5)\n",
        "print(z)"
      ],
      "metadata": {
        "colab": {
          "base_uri": "https://localhost:8080/"
        },
        "id": "zrB5JM-o6-WH",
        "outputId": "a67062f7-cdde-4435-879f-7473ae9f098c"
      },
      "execution_count": null,
      "outputs": [
        {
          "output_type": "stream",
          "name": "stdout",
          "text": [
            "Esta es una matriz identidad\n",
            "[[1. 0. 0. 0. 0.]\n",
            " [0. 1. 0. 0. 0.]\n",
            " [0. 0. 1. 0. 0.]\n",
            " [0. 0. 0. 1. 0.]\n",
            " [0. 0. 0. 0. 1.]]\n"
          ]
        }
      ]
    },
    {
      "cell_type": "code",
      "source": [
        "# Arrays utiles\n",
        "r = np.arange(-100, 100, 2) # Valor inicia, valor final, incremento (for)\n",
        "print(r)"
      ],
      "metadata": {
        "colab": {
          "base_uri": "https://localhost:8080/"
        },
        "id": "0ICQ35BUCD6a",
        "outputId": "fab19cec-3c6d-49e8-b2cd-bbbe0ae4f634"
      },
      "execution_count": null,
      "outputs": [
        {
          "output_type": "stream",
          "name": "stdout",
          "text": [
            "[-100  -98  -96  -94  -92  -90  -88  -86  -84  -82  -80  -78  -76  -74\n",
            "  -72  -70  -68  -66  -64  -62  -60  -58  -56  -54  -52  -50  -48  -46\n",
            "  -44  -42  -40  -38  -36  -34  -32  -30  -28  -26  -24  -22  -20  -18\n",
            "  -16  -14  -12  -10   -8   -6   -4   -2    0    2    4    6    8   10\n",
            "   12   14   16   18   20   22   24   26   28   30   32   34   36   38\n",
            "   40   42   44   46   48   50   52   54   56   58   60   62   64   66\n",
            "   68   70   72   74   76   78   80   82   84   86   88   90   92   94\n",
            "   96   98]\n"
          ]
        }
      ]
    },
    {
      "cell_type": "code",
      "source": [
        "# Crea un array usando linspace\n",
        "# Valor inicial, valor final, numero de elementos\n",
        "t = np.linspace(0, 10, 20)\n",
        "print(t)"
      ],
      "metadata": {
        "colab": {
          "base_uri": "https://localhost:8080/"
        },
        "id": "UT5Yq5_XCWF4",
        "outputId": "9e294e2b-cbf5-4074-8d4e-055fe2f2e6d7"
      },
      "execution_count": null,
      "outputs": [
        {
          "output_type": "stream",
          "name": "stdout",
          "text": [
            "[ 0.          0.52631579  1.05263158  1.57894737  2.10526316  2.63157895\n",
            "  3.15789474  3.68421053  4.21052632  4.73684211  5.26315789  5.78947368\n",
            "  6.31578947  6.84210526  7.36842105  7.89473684  8.42105263  8.94736842\n",
            "  9.47368421 10.        ]\n"
          ]
        }
      ]
    }
  ]
}