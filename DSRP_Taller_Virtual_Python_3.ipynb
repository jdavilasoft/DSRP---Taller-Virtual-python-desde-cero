{
  "nbformat": 4,
  "nbformat_minor": 0,
  "metadata": {
    "colab": {
      "provenance": [],
      "collapsed_sections": [],
      "authorship_tag": "ABX9TyPzxDlynBCH5pDx096Z1sg/",
      "include_colab_link": true
    },
    "kernelspec": {
      "name": "python3",
      "display_name": "Python 3"
    },
    "language_info": {
      "name": "python"
    }
  },
  "cells": [
    {
      "cell_type": "markdown",
      "metadata": {
        "id": "view-in-github",
        "colab_type": "text"
      },
      "source": [
        "<a href=\"https://colab.research.google.com/github/jdavilasoft/DSRP-Taller-Virtual-python/blob/main/DSRP_Taller_Virtual_Python_3.ipynb\" target=\"_parent\"><img src=\"https://colab.research.google.com/assets/colab-badge.svg\" alt=\"Open In Colab\"/></a>"
      ]
    },
    {
      "cell_type": "markdown",
      "source": [
        "### **Regresion Lineal**\n",
        "La regresion lineal, consiste en buscar la ecuacion de la recta que mejor se ajusta a un conjunto de datos x,y\n",
        "\n",
        "\n",
        "Dado una serie de datos X e Y, hallaremos la ecuación de la recta que mejor se ajusta. La recta es de la forma   `y = a + bx`\n",
        "\n",
        "|x|y|\n",
        "|-|-|\n",
        "|1|3|\n",
        "|2|5|\n",
        "|3|7|\n",
        "|4|9|\n",
        "\n",
        "Formulas en látex\n",
        "---------------------------\n",
        "a = \\frac{\\sum y\\sum x^{2}-\\sum x\\sum zy}{n\\sum x^{2}-\\left ( \\sum x \\right )^{2}} \n",
        "\n",
        "b = \\frac{n\\sum xy-\\sum x\\sum y}{n\\sum x^{2}-\\left ( \\sum x \\right )^{2}}\n"
      ],
      "metadata": {
        "id": "F-yU8jFo58sM"
      }
    },
    {
      "cell_type": "code",
      "source": [
        "import numpy as np\n",
        "x = np.array([1,2,3,4])\n",
        "y = np.array([3,5,7,9])\n",
        "\n",
        "# Sumatoria de y\n",
        "sumy = sum(y)\n",
        "\n",
        "# Sumatoria de x\n",
        "sumx = sum(x)\n",
        "\n",
        "# SUmatoria de los cuadrados de y\n",
        "sumy2 = sum(y**2)\n",
        "\n",
        "# Sumatoria de los cuadrados de x\n",
        "sumx2 = sum(x**2)\n",
        "\n",
        "# Suma de producto de x * y\n",
        "sumxy = sum(x*y)\n",
        "\n",
        "# Cantida de elementos\n",
        "n = len(x)\n",
        "\n",
        "a = (sumy * sumx2 - sumx * sumxy) / (n * sumx2 - sumx**2)\n",
        "b = (n * sumxy - sumx * sumy) / (n * sumx2 - sumx**2)\n",
        "\n",
        "print('a =',a)\n",
        "print('b =',b)\n",
        "print('La acuacion de la recta es:  y =',a,'+',b,'* x')"
      ],
      "metadata": {
        "colab": {
          "base_uri": "https://localhost:8080/"
        },
        "id": "l2iUNzor6EpP",
        "outputId": "972cc348-c691-4c54-c3dd-c7a0e0490705"
      },
      "execution_count": 6,
      "outputs": [
        {
          "output_type": "stream",
          "name": "stdout",
          "text": [
            "a = 1.0\n",
            "b = 2.0\n",
            "La acuacion de la recta es:  y = 1.0 + 2.0 * x\n"
          ]
        }
      ]
    },
    {
      "cell_type": "code",
      "source": [
        "# Graficos con python\n",
        "import matplotlib.pyplot as plt\n",
        "plt.scatter(x, y, c='red', alpha=0.3)\n",
        "plt.title('Mi gráfico')\n",
        "plt.xlabel('Eje X')\n",
        "plt.ylabel('Eje Y')\n"
      ],
      "metadata": {
        "colab": {
          "base_uri": "https://localhost:8080/",
          "height": 313
        },
        "id": "W0cN_ImNEEBa",
        "outputId": "4a1f8ee1-5963-42f0-f22b-27dd995e0004"
      },
      "execution_count": 16,
      "outputs": [
        {
          "output_type": "execute_result",
          "data": {
            "text/plain": [
              "Text(0, 0.5, 'Eje Y')"
            ]
          },
          "metadata": {},
          "execution_count": 16
        },
        {
          "output_type": "display_data",
          "data": {
            "text/plain": [
              "<Figure size 432x288 with 1 Axes>"
            ],
            "image/png": "[encoded data removed]"
          },
          "metadata": {
            "needs_background": "light"
          }
        }
      ]
    },
    {
      "cell_type": "code",
      "source": [
        "plt.plot(x,y)"
      ],
      "metadata": {
        "colab": {
          "base_uri": "https://localhost:8080/",
          "height": 283
        },
        "id": "wQVsBD97FBLU",
        "outputId": "be21664a-e3d7-478d-b8e6-f033ffacb46c"
      },
      "execution_count": 17,
      "outputs": [
        {
          "output_type": "execute_result",
          "data": {
            "text/plain": [
              "[<matplotlib.lines.Line2D at 0x7fe0e8d02e90>]"
            ]
          },
          "metadata": {},
          "execution_count": 17
        },
        {
          "output_type": "display_data",
          "data": {
            "text/plain": [
              "<Figure size 432x288 with 1 Axes>"
            ],
            "image/png": "[encoded data removed]"
          },
          "metadata": {
            "needs_background": "light"
          }
        }
      ]
    },
    {
      "cell_type": "code",
      "source": [
        "plt.scatter(x,y,c='red')\n",
        "plt.plot(x,y)"
      ],
      "metadata": {
        "colab": {
          "base_uri": "https://localhost:8080/",
          "height": 283
        },
        "id": "DNIF_s9uFqfR",
        "outputId": "67b691e0-6213-4117-d4c5-d4942c34839c"
      },
      "execution_count": 19,
      "outputs": [
        {
          "output_type": "execute_result",
          "data": {
            "text/plain": [
              "[<matplotlib.lines.Line2D at 0x7fe0e8d68650>]"
            ]
          },
          "metadata": {},
          "execution_count": 19
        },
        {
          "output_type": "display_data",
          "data": {
            "text/plain": [
              "<Figure size 432x288 with 1 Axes>"
            ],
            "image/png": "[encoded data removed]"
          },
          "metadata": {
            "needs_background": "light"
          }
        }
      ]
    },
    {
      "cell_type": "code",
      "source": [
        "# Graficar funciones matemáticas\n",
        "t1 = np.arange(0,15,0.1)\n",
        "print(t1)\n",
        "\n",
        "t2 = np.sin(t1)\n",
        "print(t2)\n",
        "\n",
        "plt.plot(t1, t2)"
      ],
      "metadata": {
        "colab": {
          "base_uri": "https://localhost:8080/",
          "height": 926
        },
        "id": "_o0w2FDNGO-n",
        "outputId": "8cc196a8-c2e6-456d-c72a-687cd1395241"
      },
      "execution_count": 26,
      "outputs": [
        {
          "output_type": "stream",
          "name": "stdout",
          "text": [
            "[ 0.   0.1  0.2  0.3  0.4  0.5  0.6  0.7  0.8  0.9  1.   1.1  1.2  1.3\n",
            "  1.4  1.5  1.6  1.7  1.8  1.9  2.   2.1  2.2  2.3  2.4  2.5  2.6  2.7\n",
            "  2.8  2.9  3.   3.1  3.2  3.3  3.4  3.5  3.6  3.7  3.8  3.9  4.   4.1\n",
            "  4.2  4.3  4.4  4.5  4.6  4.7  4.8  4.9  5.   5.1  5.2  5.3  5.4  5.5\n",
            "  5.6  5.7  5.8  5.9  6.   6.1  6.2  6.3  6.4  6.5  6.6  6.7  6.8  6.9\n",
            "  7.   7.1  7.2  7.3  7.4  7.5  7.6  7.7  7.8  7.9  8.   8.1  8.2  8.3\n",
            "  8.4  8.5  8.6  8.7  8.8  8.9  9.   9.1  9.2  9.3  9.4  9.5  9.6  9.7\n",
            "  9.8  9.9 10.  10.1 10.2 10.3 10.4 10.5 10.6 10.7 10.8 10.9 11.  11.1\n",
            " 11.2 11.3 11.4 11.5 11.6 11.7 11.8 11.9 12.  12.1 12.2 12.3 12.4 12.5\n",
            " 12.6 12.7 12.8 12.9 13.  13.1 13.2 13.3 13.4 13.5 13.6 13.7 13.8 13.9\n",
            " 14.  14.1 14.2 14.3 14.4 14.5 14.6 14.7 14.8 14.9]\n",
            "[ 0.          0.09983342  0.19866933  0.29552021  0.38941834  0.47942554\n",
            "  0.56464247  0.64421769  0.71735609  0.78332691  0.84147098  0.89120736\n",
            "  0.93203909  0.96355819  0.98544973  0.99749499  0.9995736   0.99166481\n",
            "  0.97384763  0.94630009  0.90929743  0.86320937  0.8084964   0.74570521\n",
            "  0.67546318  0.59847214  0.51550137  0.42737988  0.33498815  0.23924933\n",
            "  0.14112001  0.04158066 -0.05837414 -0.15774569 -0.2555411  -0.35078323\n",
            " -0.44252044 -0.52983614 -0.61185789 -0.68776616 -0.7568025  -0.81827711\n",
            " -0.87157577 -0.91616594 -0.95160207 -0.97753012 -0.993691   -0.99992326\n",
            " -0.99616461 -0.98245261 -0.95892427 -0.92581468 -0.88345466 -0.83226744\n",
            " -0.77276449 -0.70554033 -0.63126664 -0.55068554 -0.46460218 -0.37387666\n",
            " -0.2794155  -0.1821625  -0.0830894   0.0168139   0.1165492   0.21511999\n",
            "  0.31154136  0.40484992  0.49411335  0.57843976  0.6569866   0.72896904\n",
            "  0.79366786  0.85043662  0.8987081   0.93799998  0.96791967  0.98816823\n",
            "  0.99854335  0.99894134  0.98935825  0.96988981  0.94073056  0.90217183\n",
            "  0.85459891  0.79848711  0.7343971   0.66296923  0.58491719  0.50102086\n",
            "  0.41211849  0.31909836  0.22288991  0.12445442  0.02477543 -0.07515112\n",
            " -0.17432678 -0.27176063 -0.36647913 -0.45753589 -0.54402111 -0.62507065\n",
            " -0.69987469 -0.76768581 -0.82782647 -0.87969576 -0.92277542 -0.95663502\n",
            " -0.98093623 -0.99543625 -0.99999021 -0.99455259 -0.97917773 -0.95401925\n",
            " -0.91932853 -0.87545217 -0.82282859 -0.76198358 -0.69352508 -0.61813711\n",
            " -0.53657292 -0.44964746 -0.35822928 -0.26323179 -0.16560418 -0.0663219\n",
            "  0.03362305  0.13323204  0.23150983  0.32747444  0.42016704  0.50866146\n",
            "  0.59207351  0.66956976  0.74037589  0.80378443  0.85916181  0.90595474\n",
            "  0.94369567  0.9720075   0.99060736  0.99930939  0.99802665  0.98677196\n",
            "  0.96565778  0.93489506  0.89479117  0.84574683  0.78825207  0.72288135]\n"
          ]
        },
        {
          "output_type": "execute_result",
          "data": {
            "text/plain": [
              "[<matplotlib.lines.Line2D at 0x7fe0e87ad250>]"
            ]
          },
          "metadata": {},
          "execution_count": 26
        },
        {
          "output_type": "display_data",
          "data": {
            "text/plain": [
              "<Figure size 432x288 with 1 Axes>"
            ],
            "image/png": "[encoded data removed]"
          },
          "metadata": {
            "needs_background": "light"
          }
        }
      ]
    },
    {
      "cell_type": "code",
      "source": [
        "# Grafico de barras\n",
        "ciudades = ['Lima', 'Cusco', 'Arequipa', 'Puno', 'Tacna']\n",
        "temperatura = [25, 12, 16, 9, 15]\n",
        "\n",
        "plt.bar(ciudades, temperatura)\n",
        "plt.title('Temperatura de ciudades')\n",
        "plt.xlabel('Ciudades')\n",
        "plt.ylabel('Temperatura')"
      ],
      "metadata": {
        "colab": {
          "base_uri": "https://localhost:8080/",
          "height": 313
        },
        "id": "FBAFsDKCRucL",
        "outputId": "2d862ea5-3f82-4df8-f783-d0348bad978c"
      },
      "execution_count": 32,
      "outputs": [
        {
          "output_type": "execute_result",
          "data": {
            "text/plain": [
              "Text(0, 0.5, 'Temperatura')"
            ]
          },
          "metadata": {},
          "execution_count": 32
        },
        {
          "output_type": "display_data",
          "data": {
            "text/plain": [
              "<Figure size 432x288 with 1 Axes>"
            ],
            "image/png": "[encoded data removed]"
          },
          "metadata": {
            "needs_background": "light"
          }
        }
      ]
    },
    {
      "cell_type": "code",
      "source": [
        "# Grafico Histograma\n",
        "datos = np.array([5,1,0,0,5,5,2,2,3,3,1,1,1,0,5,3])\n",
        "plt.hist(datos)"
      ],
      "metadata": {
        "colab": {
          "base_uri": "https://localhost:8080/",
          "height": 319
        },
        "id": "xUpn1rYISVJT",
        "outputId": "f409c614-5bcc-4de2-f8f4-614ce03cd25c"
      },
      "execution_count": 33,
      "outputs": [
        {
          "output_type": "execute_result",
          "data": {
            "text/plain": [
              "(array([3., 0., 4., 0., 2., 0., 3., 0., 0., 4.]),\n",
              " array([0. , 0.5, 1. , 1.5, 2. , 2.5, 3. , 3.5, 4. , 4.5, 5. ]),\n",
              " <a list of 10 Patch objects>)"
            ]
          },
          "metadata": {},
          "execution_count": 33
        },
        {
          "output_type": "display_data",
          "data": {
            "text/plain": [
              "<Figure size 432x288 with 1 Axes>"
            ],
            "image/png": "[encoded data removed]"
          },
          "metadata": {
            "needs_background": "light"
          }
        }
      ]
    },
    {
      "cell_type": "markdown",
      "source": [
        "### FUNCIONES"
      ],
      "metadata": {
        "id": "NeRy7tdfTnc5"
      }
    },
    {
      "cell_type": "code",
      "source": [
        "def fnd_suma(a, b):\n",
        "  return(a + b)\n",
        "\n",
        "print(fnd_suma(11, 22))\n",
        "print(fnd_suma(15, 32))\n"
      ],
      "metadata": {
        "colab": {
          "base_uri": "https://localhost:8080/"
        },
        "id": "f9K25REvTldP",
        "outputId": "0116d026-9d95-429c-9be9-78f8645b7210"
      },
      "execution_count": 35,
      "outputs": [
        {
          "output_type": "stream",
          "name": "stdout",
          "text": [
            "33\n",
            "47\n"
          ]
        }
      ]
    },
    {
      "cell_type": "code",
      "source": [
        "def fnd_myFunction(a,b,c):\n",
        "  resultado = 3 * a +2 * b -c\n",
        "  return(resultado)\n",
        "\n",
        "print(fnd_myFunction(2,3,4))"
      ],
      "metadata": {
        "colab": {
          "base_uri": "https://localhost:8080/"
        },
        "id": "ALgn78zMUxEu",
        "outputId": "92da2835-6404-44a7-f23c-bdfd114534fb"
      },
      "execution_count": 37,
      "outputs": [
        {
          "output_type": "stream",
          "name": "stdout",
          "text": [
            "8\n"
          ]
        }
      ]
    },
    {
      "cell_type": "code",
      "source": [
        "def saludo(nombre):\n",
        "  mensaje = 'Bienvenido ' + nombre\n",
        "  return(mensaje)\n",
        "\n",
        "print(saludo('Josue'))"
      ],
      "metadata": {
        "colab": {
          "base_uri": "https://localhost:8080/"
        },
        "id": "CEFHRMd6Vk45",
        "outputId": "c3d1012a-8239-4e2c-d5b7-449d1fe3b85a"
      },
      "execution_count": 38,
      "outputs": [
        {
          "output_type": "stream",
          "name": "stdout",
          "text": [
            "Bienvenido Josue\n"
          ]
        }
      ]
    }
  ]
}