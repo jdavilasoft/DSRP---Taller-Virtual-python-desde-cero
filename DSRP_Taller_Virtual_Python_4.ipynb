{
  "nbformat": 4,
  "nbformat_minor": 0,
  "metadata": {
    "colab": {
      "provenance": [],
      "collapsed_sections": [],
      "authorship_tag": "ABX9TyOS+dZ8HDXbnRD7btD+lHQf",
      "include_colab_link": true
    },
    "kernelspec": {
      "name": "python3",
      "display_name": "Python 3"
    },
    "language_info": {
      "name": "python"
    }
  },
  "cells": [
    {
      "cell_type": "markdown",
      "metadata": {
        "id": "view-in-github",
        "colab_type": "text"
      },
      "source": [
        "<a href=\"https://colab.research.google.com/github/jdavilasoft/DSRP-Taller-Virtual-python/blob/main/DSRP_Taller_Virtual_Python_4.ipynb\" target=\"_parent\"><img src=\"https://colab.research.google.com/assets/colab-badge.svg\" alt=\"Open In Colab\"/></a>"
      ]
    },
    {
      "cell_type": "markdown",
      "source": [
        "## Ruleta"
      ],
      "metadata": {
        "id": "t1KtiTRkm4Wu"
      }
    },
    {
      "cell_type": "code",
      "source": [
        "# Importamos libreria random\n",
        "import random\n",
        "\n",
        "numero_aleatorio = random.randint(0, 36)\n",
        "print(numero_aleatorio)"
      ],
      "metadata": {
        "colab": {
          "base_uri": "https://localhost:8080/"
        },
        "id": "wfworoGwnCOl",
        "outputId": "8f45dbe7-4c5f-4828-c73b-b489f51d8810"
      },
      "execution_count": 6,
      "outputs": [
        {
          "output_type": "stream",
          "name": "stdout",
          "text": [
            "33\n"
          ]
        }
      ]
    },
    {
      "cell_type": "code",
      "source": [
        "# Comparar el numero aleatorio con mi apuesta\n",
        "import random\n",
        "\n",
        "n_ruleta = random.randint(1, 5)\n",
        "mi_apuesta = 4\n",
        "\n",
        "if n_ruleta == mi_apuesta:\n",
        "  print('GANASTE')\n",
        "else:\n",
        "  print('Perdiste')\n",
        "\n",
        "print('La ruleta dice:', n_ruleta)\n",
        "print('Elegiste el num:', mi_apuesta)"
      ],
      "metadata": {
        "colab": {
          "base_uri": "https://localhost:8080/"
        },
        "id": "E0KOXko8okzk",
        "outputId": "2ea0fa2e-d262-4428-cac7-59a52b8bc318"
      },
      "execution_count": 12,
      "outputs": [
        {
          "output_type": "stream",
          "name": "stdout",
          "text": [
            "GANASTE\n",
            "La ruleta dice: 4\n",
            "Elegiste el num: 4\n"
          ]
        }
      ]
    },
    {
      "cell_type": "code",
      "source": [
        "# Jugando varias veces\n",
        "mi_apuesta = 3\n",
        "print('Tu apuesta es', mi_apuesta, '\\n')\n",
        "\n",
        "for i in range(10):\n",
        "  print('*** Esta es tu apuesta numero ', i+1, '***')\n",
        "  n_ruleta = random.randint(1, 5)\n",
        "\n",
        "  if n_ruleta == mi_apuesta:\n",
        "    print('--- GANASTE ---')\n",
        "  else:\n",
        "    print('--- Perdiste, salió el numero:', n_ruleta)\n",
        "  \n",
        "  print('')"
      ],
      "metadata": {
        "colab": {
          "base_uri": "https://localhost:8080/"
        },
        "id": "S4ddclV-p2FJ",
        "outputId": "e448e298-6e08-499e-eef5-d14ab5ab8b59"
      },
      "execution_count": 31,
      "outputs": [
        {
          "output_type": "stream",
          "name": "stdout",
          "text": [
            "Tu apuesta es 3 \n",
            "\n",
            "*** Esta es tu apuesta numero  1 ***\n",
            "--- Perdiste, salió el numero: 4\n",
            "\n",
            "*** Esta es tu apuesta numero  2 ***\n",
            "--- GANASTE ---\n",
            "\n",
            "*** Esta es tu apuesta numero  3 ***\n",
            "--- GANASTE ---\n",
            "\n",
            "*** Esta es tu apuesta numero  4 ***\n",
            "--- Perdiste, salió el numero: 1\n",
            "\n",
            "*** Esta es tu apuesta numero  5 ***\n",
            "--- Perdiste, salió el numero: 2\n",
            "\n",
            "*** Esta es tu apuesta numero  6 ***\n",
            "--- Perdiste, salió el numero: 2\n",
            "\n",
            "*** Esta es tu apuesta numero  7 ***\n",
            "--- Perdiste, salió el numero: 4\n",
            "\n",
            "*** Esta es tu apuesta numero  8 ***\n",
            "--- Perdiste, salió el numero: 5\n",
            "\n",
            "*** Esta es tu apuesta numero  9 ***\n",
            "--- Perdiste, salió el numero: 1\n",
            "\n",
            "*** Esta es tu apuesta numero  10 ***\n",
            "--- Perdiste, salió el numero: 5\n",
            "\n"
          ]
        }
      ]
    },
    {
      "cell_type": "code",
      "source": [
        "# Contando las veces que ganamos o perdemos\n",
        "\n",
        "ganadas = 0\n",
        "perdidas = 0\n",
        "\n",
        "mi_apuesta = 3\n",
        "print('Tu apuesta es', mi_apuesta, '\\n')\n",
        "\n",
        "for i in range(10):\n",
        "  print('*** Esta es tu apuesta numero ', i+1, '***')\n",
        "  n_ruleta = random.randint(1, 5)\n",
        "\n",
        "  if n_ruleta == mi_apuesta:\n",
        "    print('--- GANASTE ---')\n",
        "    ganadas += 1\n",
        "  else:\n",
        "    print('--- Perdiste, salió el numero:', n_ruleta)\n",
        "    perdidas += 1\n",
        "  \n",
        "  print('')\n",
        "\n",
        "print('Ganaste', ganadas, 'veces')\n",
        "print('Perdiste', perdidas, 'veces')"
      ],
      "metadata": {
        "colab": {
          "base_uri": "https://localhost:8080/"
        },
        "id": "4MtNpBrUybaH",
        "outputId": "ba9eabab-4c97-4284-feea-aa8078312445"
      },
      "execution_count": 36,
      "outputs": [
        {
          "output_type": "stream",
          "name": "stdout",
          "text": [
            "Tu apuesta es 3 \n",
            "\n",
            "*** Esta es tu apuesta numero  1 ***\n",
            "--- Perdiste, salió el numero: 5\n",
            "\n",
            "*** Esta es tu apuesta numero  2 ***\n",
            "--- GANASTE ---\n",
            "\n",
            "*** Esta es tu apuesta numero  3 ***\n",
            "--- Perdiste, salió el numero: 1\n",
            "\n",
            "*** Esta es tu apuesta numero  4 ***\n",
            "--- GANASTE ---\n",
            "\n",
            "*** Esta es tu apuesta numero  5 ***\n",
            "--- GANASTE ---\n",
            "\n",
            "*** Esta es tu apuesta numero  6 ***\n",
            "--- Perdiste, salió el numero: 4\n",
            "\n",
            "*** Esta es tu apuesta numero  7 ***\n",
            "--- GANASTE ---\n",
            "\n",
            "*** Esta es tu apuesta numero  8 ***\n",
            "--- Perdiste, salió el numero: 1\n",
            "\n",
            "*** Esta es tu apuesta numero  9 ***\n",
            "--- Perdiste, salió el numero: 1\n",
            "\n",
            "*** Esta es tu apuesta numero  10 ***\n",
            "--- Perdiste, salió el numero: 5\n",
            "\n",
            "Ganaste 4 veces\n",
            "Perdiste 6 veces\n"
          ]
        }
      ]
    },
    {
      "cell_type": "code",
      "source": [
        "# Incluimos la apuesta aleatoria para cada apuesta\n",
        "\n",
        "ganadas = 0\n",
        "perdidas = 0\n",
        "\n",
        "for i in range(10):\n",
        "  print('*** Esta es tu apuesta numero ', i+1, '***')\n",
        "  n_ruleta = random.randint(1, 5)\n",
        "\n",
        "  mi_apuesta = random.randint(1, 5)\n",
        "  print('Tu apuesta es', mi_apuesta, '\\n')\n",
        "\n",
        "  if n_ruleta == mi_apuesta:\n",
        "    print('--- GANASTE ---')\n",
        "    ganadas += 1\n",
        "  else:\n",
        "    print('--- Perdiste, salió el numero:', n_ruleta)\n",
        "    perdidas += 1\n",
        "  \n",
        "  print('')\n",
        "\n",
        "print('Ganaste', ganadas, 'veces')\n",
        "print('Perdiste', perdidas, 'veces')"
      ],
      "metadata": {
        "colab": {
          "base_uri": "https://localhost:8080/"
        },
        "id": "N4sGgDcvzcQd",
        "outputId": "422859fe-cc0f-48a4-ae09-f53294196b2c"
      },
      "execution_count": 38,
      "outputs": [
        {
          "output_type": "stream",
          "name": "stdout",
          "text": [
            "*** Esta es tu apuesta numero  1 ***\n",
            "Tu apuesta es 1 \n",
            "\n",
            "--- Perdiste, salió el numero: 3\n",
            "\n",
            "*** Esta es tu apuesta numero  2 ***\n",
            "Tu apuesta es 4 \n",
            "\n",
            "--- Perdiste, salió el numero: 1\n",
            "\n",
            "*** Esta es tu apuesta numero  3 ***\n",
            "Tu apuesta es 3 \n",
            "\n",
            "--- GANASTE ---\n",
            "\n",
            "*** Esta es tu apuesta numero  4 ***\n",
            "Tu apuesta es 5 \n",
            "\n",
            "--- Perdiste, salió el numero: 4\n",
            "\n",
            "*** Esta es tu apuesta numero  5 ***\n",
            "Tu apuesta es 3 \n",
            "\n",
            "--- GANASTE ---\n",
            "\n",
            "*** Esta es tu apuesta numero  6 ***\n",
            "Tu apuesta es 3 \n",
            "\n",
            "--- Perdiste, salió el numero: 5\n",
            "\n",
            "*** Esta es tu apuesta numero  7 ***\n",
            "Tu apuesta es 5 \n",
            "\n",
            "--- Perdiste, salió el numero: 4\n",
            "\n",
            "*** Esta es tu apuesta numero  8 ***\n",
            "Tu apuesta es 5 \n",
            "\n",
            "--- Perdiste, salió el numero: 2\n",
            "\n",
            "*** Esta es tu apuesta numero  9 ***\n",
            "Tu apuesta es 4 \n",
            "\n",
            "--- Perdiste, salió el numero: 5\n",
            "\n",
            "*** Esta es tu apuesta numero  10 ***\n",
            "Tu apuesta es 1 \n",
            "\n",
            "--- GANASTE ---\n",
            "\n",
            "Ganaste 3 veces\n",
            "Perdiste 7 veces\n"
          ]
        }
      ]
    },
    {
      "cell_type": "code",
      "source": [
        "# Apostamos a mas de un número\n",
        "mi_apuesta = [1,2,3]\n",
        "n_ruleta = 2\n",
        "\n",
        "if n_ruleta in mi_apuesta:\n",
        "  print('Esta dentro de tu apuesta')\n",
        "else:\n",
        "  print('No esta en tu apuesta')"
      ],
      "metadata": {
        "colab": {
          "base_uri": "https://localhost:8080/"
        },
        "id": "CcmB_uSe0OEI",
        "outputId": "6709dd0f-89cf-4e05-c21d-697900295cc5"
      },
      "execution_count": 40,
      "outputs": [
        {
          "output_type": "stream",
          "name": "stdout",
          "text": [
            "Esta dentro de tu apuesta\n"
          ]
        }
      ]
    },
    {
      "cell_type": "code",
      "source": [
        "# Juego a mas de un numero\n",
        "import random\n",
        "\n",
        "mi_apuesta = [10,5,12,20,29]\n",
        "ganadas = 0\n",
        "perdidas = 0\n",
        "\n",
        "for i in range(5000):\n",
        "  n_ruleta = random.randint(0, 36)\n",
        "\n",
        "  if n_ruleta in mi_apuesta:\n",
        "    ganadas += 1\n",
        "  else:\n",
        "    perdidas += 1\n",
        "\n",
        "print('Veces  que ganaste', ganadas)\n",
        "print('Veces que perdiste', perdidas)"
      ],
      "metadata": {
        "colab": {
          "base_uri": "https://localhost:8080/"
        },
        "id": "ThOexf0f15nw",
        "outputId": "c8e933e4-0015-465d-ae95-09e7840e2d2e"
      },
      "execution_count": 58,
      "outputs": [
        {
          "output_type": "stream",
          "name": "stdout",
          "text": [
            "Veces  que ganaste 713\n",
            "Veces que perdiste 4287\n"
          ]
        }
      ]
    },
    {
      "cell_type": "code",
      "source": [
        "# Juego a mas de un numero, incluyendo dinero\n",
        "import random\n",
        "\n",
        "mi_apuesta = [10,5,12,20,29]\n",
        "ganadas = 0\n",
        "perdidas = 0\n",
        "dinero = 100\n",
        "\n",
        "for i in range(10):\n",
        "  n_ruleta = random.randint(0, 36)\n",
        "\n",
        "  if n_ruleta in mi_apuesta:\n",
        "    ganadas += 1\n",
        "    dinero += 5\n",
        "  else:\n",
        "    perdidas += 1\n",
        "    dinero -= 5\n",
        "\n",
        "print('Veces  que ganaste', ganadas)\n",
        "print('Veces que perdiste', perdidas)\n",
        "print('Saldo de dinero', dinero)"
      ],
      "metadata": {
        "colab": {
          "base_uri": "https://localhost:8080/"
        },
        "id": "dl9jEF2q3QBM",
        "outputId": "cf36b893-22e1-4891-c886-4a0fc9502cc8"
      },
      "execution_count": 68,
      "outputs": [
        {
          "output_type": "stream",
          "name": "stdout",
          "text": [
            "Veces  que ganaste 0\n",
            "Veces que perdiste 10\n",
            "Saldo de dinero 50\n"
          ]
        }
      ]
    },
    {
      "cell_type": "code",
      "source": [
        "# Juego a mas de un numero, incluyendo dinero + grafic\n",
        "import random\n",
        "import matplotlib.pyplot as plt\n",
        "\n",
        "mi_apuesta = [1,2,3,3,4,10,5,12,20,29,21,16,19,25,31,15,18,19]\n",
        "ganadas = 0\n",
        "perdidas = 0\n",
        "dinero = 100\n",
        "dinero_lista = []\n",
        "\n",
        "for i in range(50):\n",
        "  n_ruleta = random.randint(0, 36)\n",
        "\n",
        "  if n_ruleta in mi_apuesta:\n",
        "    ganadas += 1\n",
        "    dinero += 5\n",
        "  else:\n",
        "    perdidas += 1\n",
        "    dinero -= 5\n",
        "  \n",
        "  dinero_lista.append(dinero)\n",
        "\n",
        "print('Veces  que ganaste', ganadas)\n",
        "print('Veces que perdiste', perdidas)\n",
        "print('Saldo de dinero', dinero)\n",
        "print(dinero_lista)\n",
        "\n",
        "plt.plot(dinero_lista)\n",
        "plt.xlabel('Numero de jugadas')\n",
        "plt.ylabel('Dinero')\n",
        "plt.title('Evolución de mis ganancias')"
      ],
      "metadata": {
        "colab": {
          "base_uri": "https://localhost:8080/",
          "height": 404
        },
        "id": "q7_xPqrF4GF5",
        "outputId": "586c8626-8008-48c5-fc81-bc487cf5ae91"
      },
      "execution_count": 83,
      "outputs": [
        {
          "output_type": "stream",
          "name": "stdout",
          "text": [
            "Veces  que ganaste 21\n",
            "Veces que perdiste 29\n",
            "Saldo de dinero 60\n",
            "[105, 100, 95, 90, 85, 80, 85, 80, 75, 70, 65, 70, 65, 70, 65, 60, 65, 60, 55, 60, 65, 70, 65, 60, 65, 60, 55, 60, 65, 70, 65, 70, 65, 70, 75, 70, 75, 80, 75, 70, 65, 60, 55, 50, 55, 50, 45, 50, 55, 60]\n"
          ]
        },
        {
          "output_type": "execute_result",
          "data": {
            "text/plain": [
              "Text(0.5, 1.0, 'Evolución de mis ganancias')"
            ]
          },
          "metadata": {},
          "execution_count": 83
        },
        {
          "output_type": "display_data",
          "data": {
            "text/plain": [
              "<Figure size 432x288 with 1 Axes>"
            ],
            "image/png": "[encoded data removed]"
          },
          "metadata": {
            "needs_background": "light"
          }
        }
      ]
    }
  ]
}