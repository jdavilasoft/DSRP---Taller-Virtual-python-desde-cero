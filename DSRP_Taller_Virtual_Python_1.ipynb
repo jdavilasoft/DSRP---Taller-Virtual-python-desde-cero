{
  "nbformat": 4,
  "nbformat_minor": 0,
  "metadata": {
    "colab": {
      "provenance": [],
      "collapsed_sections": [],
      "authorship_tag": "ABX9TyOTE/NkzNWmnuyxKXAoIrS+",
      "include_colab_link": true
    },
    "kernelspec": {
      "name": "python3",
      "display_name": "Python 3"
    },
    "language_info": {
      "name": "python"
    }
  },
  "cells": [
    {
      "cell_type": "markdown",
      "metadata": {
        "id": "view-in-github",
        "colab_type": "text"
      },
      "source": [
        "<a href=\"https://colab.research.google.com/github/jdavilasoft/DSRP-Taller-Virtual-python/blob/main/DSRP_Taller_Virtual_Python_1.ipynb\" target=\"_parent\"><img src=\"https://colab.research.google.com/assets/colab-badge.svg\" alt=\"Open In Colab\"/></a>"
      ]
    },
    {
      "cell_type": "code",
      "execution_count": null,
      "metadata": {
        "colab": {
          "base_uri": "https://localhost:8080/"
        },
        "id": "6qMtspV1wgqE",
        "outputId": "9318ccfc-23f3-4a1b-e638-c5af073cefe5"
      },
      "outputs": [
        {
          "output_type": "stream",
          "name": "stdout",
          "text": [
            "Hola, bienvenidos a Python\n"
          ]
        }
      ],
      "source": [
        "# Este es mi primer comentario\n",
        "print('Hola, bienvenidos a Python')"
      ]
    },
    {
      "cell_type": "code",
      "source": [
        "# Trabajando con variables de texto\n",
        "nombre = 'Javier'\n",
        "edad = 38\n",
        "altura = 1.65\n",
        "promedio = 20\n",
        "curso = 'Python'\n",
        "\n",
        "# Mostrando variables\n",
        "print('Mi nombre es', nombre, 'tengo', edad, 'anios, y mi altura es', altura)\n",
        "print('Hola, mi nombre es', nombre, ', mi clase favorita es', curso, 'y mi promedio es', promedio)"
      ],
      "metadata": {
        "colab": {
          "base_uri": "https://localhost:8080/"
        },
        "id": "P6vyZ-1cy7Aw",
        "outputId": "10d6deaf-1c52-4cfa-eaf4-050aae772f41"
      },
      "execution_count": null,
      "outputs": [
        {
          "output_type": "stream",
          "name": "stdout",
          "text": [
            "Mi nombre es Javier tengo 38 anios, y mi altura es 1.65\n",
            "Hola, mi nombre es Javier , mi clase favorita es Python y mi promedio es 20\n"
          ]
        }
      ]
    },
    {
      "cell_type": "code",
      "source": [
        "# Trabajando con variables numericas\n",
        "x = 10\n",
        "y = 5.5\n",
        "\n",
        "# Mostrar valores\n",
        "print('El valor de x es', x)\n",
        "print('El valor de y es', y)\n",
        "\n",
        "# Operaciones\n",
        "suma = x + y\n",
        "print('La suma es', suma)\n",
        "\n",
        "resta = x -y\n",
        "print('La suma es', resta)\n",
        "\n",
        "producto = x * y\n",
        "print('La suma es', producto)\n",
        "\n",
        "division = x / y\n",
        "print('La suma es', division)"
      ],
      "metadata": {
        "colab": {
          "base_uri": "https://localhost:8080/"
        },
        "id": "3dQ18bZ-0tI0",
        "outputId": "9fcfc597-ee43-4372-b089-ba8ff72010d3"
      },
      "execution_count": null,
      "outputs": [
        {
          "output_type": "stream",
          "name": "stdout",
          "text": [
            "El valor de x es 10\n",
            "El valor de y es 5.5\n",
            "La suma es 15.5\n",
            "La suma es 4.5\n",
            "La suma es 55.0\n",
            "La suma es 1.8181818181818181\n"
          ]
        }
      ]
    },
    {
      "cell_type": "code",
      "source": [
        "# Importando librerias\n",
        "import math\n",
        "# Calculando el factorial de un numero\n",
        "valor = 5\n",
        "resultado = math.factorial(valor)\n",
        "print('El factorail de', valor, 'es', resultado)"
      ],
      "metadata": {
        "colab": {
          "base_uri": "https://localhost:8080/"
        },
        "id": "LUNY2Lzi2l2q",
        "outputId": "8054ccb3-3a10-4b8c-c4ce-bbc7a8ce7b44"
      },
      "execution_count": null,
      "outputs": [
        {
          "output_type": "stream",
          "name": "stdout",
          "text": [
            "El factorail de 5 es 120\n"
          ]
        }
      ]
    },
    {
      "cell_type": "code",
      "source": [
        "# Condicionales\n",
        "nota_final = 13\n",
        "if 0 <= nota_final and nota_final <= 20:\n",
        "  if nota_final < 14:\n",
        "    print('Desaprobaste el curso')\n",
        "  elif nota_final == 20:\n",
        "      print('Felicidades')\n",
        "  else:\n",
        "    print('Aprobaste el curso')\n",
        "else:\n",
        "  print('Nota no válida')"
      ],
      "metadata": {
        "colab": {
          "base_uri": "https://localhost:8080/"
        },
        "id": "daue8bN-79Yz",
        "outputId": "80470bf9-2d24-4c78-92d1-18de9b433a98"
      },
      "execution_count": null,
      "outputs": [
        {
          "output_type": "stream",
          "name": "stdout",
          "text": [
            "Desaprobaste el curso\n"
          ]
        }
      ]
    },
    {
      "cell_type": "code",
      "source": [
        "print('******************')\n",
        "# Bucle for ascendente\n",
        "for i in range(5):\n",
        "  print(i + 1)\n",
        "\n",
        "print('******************')\n",
        "# Bucle for descendente\n",
        "for i in range(5, 0, -1):\n",
        "  print(i)\n",
        "\n",
        "print('******************')\n",
        "# Ejemplo tabla de multiplicar\n",
        "numero = 2\n",
        "print('Tabla de multiplicar del', numero)\n",
        "for i in range(13):\n",
        "  print(i, 'x', numero, '=', i * numero)"
      ],
      "metadata": {
        "colab": {
          "base_uri": "https://localhost:8080/"
        },
        "id": "TbO2ohkBTxyM",
        "outputId": "7e90d8c6-7df1-47f2-a3a0-3b7a7fe48fd6"
      },
      "execution_count": null,
      "outputs": [
        {
          "output_type": "stream",
          "name": "stdout",
          "text": [
            "******************\n",
            "1\n",
            "2\n",
            "3\n",
            "4\n",
            "5\n",
            "******************\n",
            "5\n",
            "4\n",
            "3\n",
            "2\n",
            "1\n",
            "******************\n",
            "Tabla de multiplicar del 2\n",
            "0 x 2 = 0\n",
            "1 x 2 = 2\n",
            "2 x 2 = 4\n",
            "3 x 2 = 6\n",
            "4 x 2 = 8\n",
            "5 x 2 = 10\n",
            "6 x 2 = 12\n",
            "7 x 2 = 14\n",
            "8 x 2 = 16\n",
            "9 x 2 = 18\n",
            "10 x 2 = 20\n",
            "11 x 2 = 22\n",
            "12 x 2 = 24\n"
          ]
        }
      ]
    }
  ]
}